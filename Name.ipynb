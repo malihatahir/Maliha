{
 "cells": [
  {
   "cell_type": "code",
   "execution_count": null,
   "metadata": {},
   "outputs": [],
   "source": [
    "name = (\"Maliha Tahir\")\n",
    "hometown = (\"Lahore\")\n",
    "color = (\"Black\")\n",
    "sport = (\"Cricket\")\n",
    "\n",
    "print(name, hometown, color, sport, sep = \"\\n\")"
   ]
  },
  {
   "cell_type": "code",
   "execution_count": null,
   "metadata": {},
   "outputs": [],
   "source": [
    "name1 = input(\"What's the name of the first item?\")\n",
    "price1 = float(input(\"What's the price of the first item?\"))\n",
    "name2 = input(\"What's the name of the second item?\")\n",
    "price2 = float(input(\"What's the price of the second item?\"))\n",
    "name3 = input(\"What's the name of the third item?\")\n",
    "price3 = float(input(\"What's the price of the third item?\"))\n",
    "\n",
    "Total = price1+price2+price3\n",
    "\n",
    "print(name1, price1, name2, price2, name3, price3, sep = \"\\n\")\n",
    "print(\"Total\", Total) "
   ]
  },
  {
   "cell_type": "code",
   "execution_count": null,
   "metadata": {},
   "outputs": [],
   "source": []
  }
 ],
 "metadata": {
  "kernelspec": {
   "display_name": "Python 3",
   "language": "python",
   "name": "python3"
  },
  "language_info": {
   "codemirror_mode": {
    "name": "ipython",
    "version": 3
   },
   "file_extension": ".py",
   "mimetype": "text/x-python",
   "name": "python",
   "nbconvert_exporter": "python",
   "pygments_lexer": "ipython3",
   "version": "3.7.3"
  }
 },
 "nbformat": 4,
 "nbformat_minor": 2
}
